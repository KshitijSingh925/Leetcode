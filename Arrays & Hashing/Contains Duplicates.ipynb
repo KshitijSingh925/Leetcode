{
 "cells": [
  {
   "cell_type": "markdown",
   "id": "62b1c8fe",
   "metadata": {},
   "source": [
    "# **217. Contains Duplicate**\n",
    "<br>\n",
    "<br>\n",
    "<br>\n",
    "\n",
    "\n",
    "Given an integer array nums, return true if any value appears at least twice in the array, and return false if every element is distinct.\n",
    "\n",
    " <br>\n",
    " <br>\n",
    "\n",
    "Example 1:\n",
    "\n",
    "Input: nums = [1,2,3,1]\n",
    "\n",
    "Output: true\n",
    "\n",
    "Explanation:\n",
    "\n",
    "The element 1 occurs at the indices 0 and 3.\n",
    "\n",
    " <br>\n",
    " <br>\n",
    "\n",
    "\n",
    "Example 2:\n",
    "\n",
    "Input: nums = [1,2,3,4]\n",
    "\n",
    "Output: false\n",
    "\n",
    "Explanation:\n",
    "\n",
    "All elements are distinct.\n",
    "\n",
    "<br>\n",
    "<br>\n",
    "\n",
    "\n",
    "Example 3:\n",
    "\n",
    "Input: nums = [1,1,1,3,3,4,3,2,4,2]\n",
    "\n",
    "Output: true\n",
    "\n",
    "<br>\n",
    "<br>\n",
    " \n",
    "\n",
    "\n",
    "Constraints:\n",
    "\n",
    "1 <= nums.length <= 105\n",
    "-109 <= nums[i] <= 109"
   ]
  },
  {
   "cell_type": "markdown",
   "id": "504d6b1c",
   "metadata": {},
   "source": [
    "# Solution Thought Process - \n",
    "\n",
    "<br>\n",
    "\n",
    "Since we have to check if the numbers are repeating in the list, we will first initialize an empty set so that we can keep\n",
    "a track of all the unique numbers as there are no repetition of elements in a set.<br><br>\n",
    "Now, we will iterate through all the numbers in the list and we will check if the number is present in the set.\n",
    "If the number is not present in the set then we will add it to the set.<br><br>\n",
    "Whereas, if the number is already present in the set that means the number was already encnountered while iterating \n",
    "in the list earlier indicating the presence of a duplicate number and we will just return False.<br><br>\n"
   ]
  },
  {
   "cell_type": "code",
   "execution_count": 10,
   "id": "c02c6856",
   "metadata": {},
   "outputs": [],
   "source": [
    "def has_duplicate(numbers_list):\n",
    "\n",
    "    numbers_set = set()\n",
    "\n",
    "    for number in numbers_list:\n",
    "        if number in numbers_set:\n",
    "            return True\n",
    "        else:\n",
    "            numbers_set.add(number)\n",
    "\n",
    "    return False"
   ]
  },
  {
   "cell_type": "markdown",
   "id": "123f76c6",
   "metadata": {},
   "source": [
    "**Time Complexity - O(n)** where n is the number of elements in the `numbers_list`. This is because the function iterates through each element in the list exactly once.<br><br>\n",
    "**Space Complexity - O(n)** This occurs when there are no duplicates in the list, and all elements are added to the `numbers_set`."
   ]
  },
  {
   "cell_type": "code",
   "execution_count": 11,
   "id": "a90d45d3",
   "metadata": {},
   "outputs": [
    {
     "data": {
      "text/plain": [
       "True"
      ]
     },
     "execution_count": 11,
     "metadata": {},
     "output_type": "execute_result"
    }
   ],
   "source": [
    "# Test Case 1:\n",
    "\n",
    "has_duplicate([1,2,3,3])"
   ]
  },
  {
   "cell_type": "code",
   "execution_count": 12,
   "id": "f100e2e6",
   "metadata": {},
   "outputs": [
    {
     "data": {
      "text/plain": [
       "False"
      ]
     },
     "execution_count": 12,
     "metadata": {},
     "output_type": "execute_result"
    }
   ],
   "source": [
    "# Test Case 2:\n",
    "\n",
    "has_duplicate([1,2,3,4])"
   ]
  },
  {
   "cell_type": "code",
   "execution_count": 13,
   "id": "02264dc3",
   "metadata": {},
   "outputs": [
    {
     "data": {
      "text/plain": [
       "False"
      ]
     },
     "execution_count": 13,
     "metadata": {},
     "output_type": "execute_result"
    }
   ],
   "source": [
    "# Test Case 3:\n",
    "\n",
    "has_duplicate([number for number in range(1,25)])"
   ]
  },
  {
   "cell_type": "code",
   "execution_count": 14,
   "id": "671afb73",
   "metadata": {},
   "outputs": [
    {
     "data": {
      "text/plain": [
       "True"
      ]
     },
     "execution_count": 14,
     "metadata": {},
     "output_type": "execute_result"
    }
   ],
   "source": [
    "has_duplicate([1,2,3,4,5,7,7,8,9,10])"
   ]
  }
 ],
 "metadata": {
  "kernelspec": {
   "display_name": "Python 3",
   "language": "python",
   "name": "python3"
  },
  "language_info": {
   "codemirror_mode": {
    "name": "ipython",
    "version": 3
   },
   "file_extension": ".py",
   "mimetype": "text/x-python",
   "name": "python",
   "nbconvert_exporter": "python",
   "pygments_lexer": "ipython3",
   "version": "3.11.1"
  }
 },
 "nbformat": 4,
 "nbformat_minor": 5
}
