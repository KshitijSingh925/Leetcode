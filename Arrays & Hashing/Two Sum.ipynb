{
 "cells": [
  {
   "cell_type": "markdown",
   "id": "3398f9e1",
   "metadata": {},
   "source": [
    "# **1. Two Sum**\n",
    "<br>\n",
    "<br>\n",
    "<br>\n",
    "\n",
    "Given an array of integers nums and an integer target, return indices of the two numbers such that they add up to target.\n",
    "<br>\n",
    "You may assume that each input would have exactly one solution, and you may not use the same element twice.\n",
    "<br>\n",
    "You can return the answer in any order.\n",
    "\n",
    " <br>\n",
    " <br>\n",
    "\n",
    "Example 1:\n",
    "\n",
    "Input: nums = [2,7,11,15], target = 9<br>\n",
    "Output: [0,1]<br>\n",
    "Explanation: Because nums[0] + nums[1] == 9, we return [0, 1].\n",
    "\n",
    "<br>\n",
    "<br>\n",
    "\n",
    "Example 2:\n",
    "\n",
    "Input: nums = [3,2,4], target = 6<br>\n",
    "Output: [1,2]\n",
    "\n",
    "<br>\n",
    "<br>\n",
    "\n",
    "Example 3:\n",
    "\n",
    "Input: nums = [3,3], target = 6<br>\n",
    "Output: [0,1]\n",
    " \n",
    "<br>\n",
    "<br>\n",
    "Constraints:\n",
    "<br>\n",
    "2 <= nums.length <= 104<br>\n",
    "-109 <= nums[i] <= 109<br>\n",
    "-109 <= target <= 109<br>\n",
    "Only one valid answer exists."
   ]
  },
  {
   "cell_type": "markdown",
   "id": "0996d97e",
   "metadata": {},
   "source": [
    "\n",
    "\n",
    "# Solution Thought Process -\n",
    "\n",
    "<br>\n",
    "\n",
    "Since we need to find two numbers in the list whose sum equals the given target, we can use a dictionary to keep track of the numbers we have already seen along with their indices. This approach allows us to efficiently check if the complement of the current number (i.e., `target - number`) has already been encountered in the list.<br><br>\n",
    "\n",
    "We start by initializing an empty dictionary named `numbers_dictionary`. The keys will represent the numbers we've already seen, and the values will represent their respective indices in the list.<br><br>\n",
    "\n",
    "Now, we iterate through the list using `enumerate()` which gives both the index and the number at each iteration. For every number, we calculate the `difference` by subtracting the current number from the `target`.<br><br>\n",
    "\n",
    "If this `difference` is already present in `numbers_dictionary`, that means we have already encountered a number such that when added to the current number, equals the target. In that case, we return a list containing the index of that earlier number and the current index.<br><br>\n",
    "\n",
    "If the `difference` is not found in the dictionary, we add the current number along with its index to the dictionary. This way, it becomes available for future comparisons as we proceed through the list.<br><br>\n",
    "\n",
    "\n",
    "**Time Complexity - O(n)** where *n* is the number of elements in the `numbers_list`. This is because the function iterates through each element in the list exactly once.<br><br>\n",
    "\n",
    "**Space Complexity - O(n)** This occurs when there are no two numbers that sum up to the target until the end, resulting in all elements being added to the `numbers_dictionary`.\n"
   ]
  },
  {
   "cell_type": "code",
   "execution_count": null,
   "id": "9f9c7229",
   "metadata": {},
   "outputs": [],
   "source": [
    "def twoSum(numbers_list, target):\n",
    "\n",
    "    numbers_dictionary = {}\n",
    "\n",
    "    for index, number in enumerate(numbers_list):\n",
    "        difference = target - number\n",
    "\n",
    "        if difference in numbers_dictionary:\n",
    "            return [numbers_dictionary[difference], index]\n",
    "            \n",
    "        numbers_dictionary[number] = index"
   ]
  },
  {
   "cell_type": "code",
   "execution_count": 4,
   "id": "1b25d4f4",
   "metadata": {},
   "outputs": [
    {
     "data": {
      "text/plain": [
       "[0, 1]"
      ]
     },
     "execution_count": 4,
     "metadata": {},
     "output_type": "execute_result"
    }
   ],
   "source": [
    "# Test Case 1:\n",
    "\n",
    "twoSum([2,7,11,15], 9)"
   ]
  },
  {
   "cell_type": "code",
   "execution_count": 5,
   "id": "c143c438",
   "metadata": {},
   "outputs": [
    {
     "data": {
      "text/plain": [
       "[1, 2]"
      ]
     },
     "execution_count": 5,
     "metadata": {},
     "output_type": "execute_result"
    }
   ],
   "source": [
    "# Test Case 2:\n",
    "\n",
    "twoSum([3,2,4], 6)"
   ]
  },
  {
   "cell_type": "code",
   "execution_count": 7,
   "id": "cbd2aa65",
   "metadata": {},
   "outputs": [
    {
     "data": {
      "text/plain": [
       "[0, 1]"
      ]
     },
     "execution_count": 7,
     "metadata": {},
     "output_type": "execute_result"
    }
   ],
   "source": [
    "# Test Case 3:\n",
    "\n",
    "twoSum([3,3], 6)"
   ]
  }
 ],
 "metadata": {
  "kernelspec": {
   "display_name": "Python 3",
   "language": "python",
   "name": "python3"
  },
  "language_info": {
   "codemirror_mode": {
    "name": "ipython",
    "version": 3
   },
   "file_extension": ".py",
   "mimetype": "text/x-python",
   "name": "python",
   "nbconvert_exporter": "python",
   "pygments_lexer": "ipython3",
   "version": "3.11.1"
  }
 },
 "nbformat": 4,
 "nbformat_minor": 5
}
