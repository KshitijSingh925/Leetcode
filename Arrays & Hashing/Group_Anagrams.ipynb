{
 "cells": [
  {
   "cell_type": "markdown",
   "id": "d0d8c42a",
   "metadata": {},
   "source": [
    "# **49. Group Anagrams**\n",
    "\n",
    "<br>\n",
    "<br>\n",
    "<br>\n",
    "\n",
    "Given an array of strings strs, group the anagrams together. You can return the answer in any order.\n",
    "<br>\n",
    "<br>\n",
    "\n",
    " \n",
    "\n",
    "Example 1:\n",
    "\n",
    "Input: strs = [\"eat\",\"tea\",\"tan\",\"ate\",\"nat\",\"bat\"]\n",
    "\n",
    "Output: [[\"bat\"],[\"nat\",\"tan\"],[\"ate\",\"eat\",\"tea\"]]\n",
    "\n",
    "Explanation:\n",
    "\n",
    "There is no string in strs that can be rearranged to form \"bat\".\n",
    "The strings \"nat\" and \"tan\" are anagrams as they can be rearranged to form each other.\n",
    "The strings \"ate\", \"eat\", and \"tea\" are anagrams as they can be rearranged to form each other.\n",
    "\n",
    "<br>\n",
    "<br>\n",
    "\n",
    "\n",
    "Example 2:\n",
    "\n",
    "Input: strs = [\"\"]\n",
    "\n",
    "Output: [[\"\"]]\n",
    "\n",
    "<br>\n",
    "<br>\n",
    "\n",
    "\n",
    "Example 3:\n",
    "\n",
    "Input: strs = [\"a\"]\n",
    "\n",
    "Output: [[\"a\"]]\n",
    "\n",
    " <br>\n",
    " <br>\n",
    "\n",
    "Constraints:\n",
    "\n",
    "1 <= strs.length <= 104\n",
    "0 <= strs[i].length <= 100\n",
    "strs[i] consists of lowercase English letters."
   ]
  },
  {
   "cell_type": "markdown",
   "id": "c6b337b3",
   "metadata": {},
   "source": [
    "# Solution Thought Process -\n",
    "\n",
    "<br>\n",
    "\n",
    "The task is to group words that are anagrams of each other. Anagrams are words or phrases formed by rearranging the letters of another, typically using all the original letters exactly once. For example, `\"listen\"` and `\"silent\"` are anagrams.<br><br>\n",
    "\n",
    "To efficiently group anagrams, we use a **dictionary** to store grouped words based on a common key that uniquely represents each anagram group. The idea is to use a **frequency count of characters** in each word to generate this key.<br><br>\n",
    "\n",
    "We start by initializing a **defaultdict** named `group_dictionary`, where each key is a tuple representing the character frequency of a word, and the value is a list of words that match that frequency pattern.<br><br>\n",
    "\n",
    "Before entering the main logic, we handle a simple edge case: if the input list contains only one word, we immediately return that word grouped as a single list.<br><br>\n",
    "\n",
    "Now, for each word in the input list:\n",
    "\n",
    "* We create a list of 26 zeros called `alphabets`, corresponding to each letter in the English alphabet.\n",
    "* For every character in the current word, we increment the appropriate index in the `alphabets` list based on the character's ASCII value (`ord(character) - ord('a')`).\n",
    "* This list of character frequencies is then **converted into a tuple**, which is hashable and can be used as a dictionary key.\n",
    "* The word is then **appended to the list** in `group_dictionary` under its corresponding key.<br><br>\n",
    "\n",
    "At the end of the loop, all anagrams will be grouped under the same frequency-based key. The final result is the collection of these grouped values.<br><br>\n",
    "\n",
    "**Time Complexity - O(n \\* k)** where:\n",
    "\n",
    "* *n* is the number of words in `list_of_strs`\n",
    "* *k* is the average length of the words\n",
    "  This is because for each word, we compute a frequency count in O(k) time.<br><br>\n",
    "\n",
    "**Space Complexity - O(n \\* k)**\n",
    "We store every word in the output and use additional space for storing frequency tuples (26-length integers) and groupings in the dictionary.\n",
    "\n",
    "\n",
    "Let me know if you'd like this content in markdown or ready to be copied into documentation or slides.\n"
   ]
  },
  {
   "cell_type": "code",
   "execution_count": 7,
   "id": "190ea0d4",
   "metadata": {},
   "outputs": [],
   "source": [
    "from collections import defaultdict\n",
    "\n",
    "\n",
    "def group_Anagrams(list_of_strs):\n",
    "\n",
    "    group_dictionary = defaultdict(list)\n",
    "\n",
    "    if len(list_of_strs) == 1:\n",
    "        return [list_of_strs]\n",
    "\n",
    "    for word in list_of_strs:\n",
    "\n",
    "        alphabets = [0]*26\n",
    "\n",
    "        for character in word:\n",
    "\n",
    "            alphabets[ord(character) - ord('a')] += 1\n",
    "\n",
    "        group_dictionary[tuple(alphabets)].append(word)\n",
    "\n",
    "    return group_dictionary.values()\n"
   ]
  },
  {
   "cell_type": "code",
   "execution_count": 9,
   "id": "c172ff03",
   "metadata": {},
   "outputs": [
    {
     "data": {
      "text/plain": [
       "dict_values([['act', 'cat'], ['pots', 'tops', 'stop'], ['hat']])"
      ]
     },
     "execution_count": 9,
     "metadata": {},
     "output_type": "execute_result"
    }
   ],
   "source": [
    "# Test Case 1: \n",
    "\n",
    "group_Anagrams([\"act\",\"pots\",\"tops\",\"cat\",\"stop\",\"hat\"])\n"
   ]
  },
  {
   "cell_type": "code",
   "execution_count": 11,
   "id": "02b012a3",
   "metadata": {},
   "outputs": [
    {
     "data": {
      "text/plain": [
       "[['k']]"
      ]
     },
     "execution_count": 11,
     "metadata": {},
     "output_type": "execute_result"
    }
   ],
   "source": [
    "# Test Case 2:\n",
    "\n",
    "group_Anagrams(['k'])"
   ]
  },
  {
   "cell_type": "code",
   "execution_count": 12,
   "id": "e1ccb470",
   "metadata": {},
   "outputs": [
    {
     "data": {
      "text/plain": [
       "[['']]"
      ]
     },
     "execution_count": 12,
     "metadata": {},
     "output_type": "execute_result"
    }
   ],
   "source": [
    "# Test Case 3:\n",
    "\n",
    "group_Anagrams([''])"
   ]
  }
 ],
 "metadata": {
  "kernelspec": {
   "display_name": "Python 3",
   "language": "python",
   "name": "python3"
  },
  "language_info": {
   "codemirror_mode": {
    "name": "ipython",
    "version": 3
   },
   "file_extension": ".py",
   "mimetype": "text/x-python",
   "name": "python",
   "nbconvert_exporter": "python",
   "pygments_lexer": "ipython3",
   "version": "3.11.1"
  }
 },
 "nbformat": 4,
 "nbformat_minor": 5
}
