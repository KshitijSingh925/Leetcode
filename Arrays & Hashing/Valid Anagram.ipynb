{
 "cells": [
  {
   "cell_type": "markdown",
   "id": "720170f8",
   "metadata": {},
   "source": [
    "# **242. Valid Anagram**\n",
    "<br>\n",
    "<br>\n",
    "<br>\n",
    "\n",
    "Given two strings s and t, return true if t is an anagram of s, and false otherwise.\n",
    "\n",
    "<br>\n",
    "<br>\n",
    " \n",
    "\n",
    "Example 1:\n",
    "\n",
    "Input: s = \"anagram\", t = \"nagaram\"\n",
    "\n",
    "Output: true\n",
    "\n",
    "<br>\n",
    "<br>\n",
    "\n",
    "\n",
    "Example 2:\n",
    "\n",
    "Input: s = \"rat\", t = \"car\"\n",
    "\n",
    "Output: false\n",
    "\n",
    "<br>\n",
    "<br>\n",
    " \n",
    "\n",
    "Constraints:\n",
    "\n",
    "1 <= s.length, t.length <= 5 * 104\n",
    "s and t consist of lowercase English letters."
   ]
  },
  {
   "cell_type": "markdown",
   "id": "48b96e06",
   "metadata": {},
   "source": [
    "# Solution Thought Process - \n",
    "\n",
    "**Approach 1 -**<br><br>\n",
    "\n",
    "We initialize empty dictionaries for each of the string `s` and `t`.<br><br>\n",
    "We iterate through the characters of both the strings and kkeep a record of the count of each character in their respective dictionaries.<br><br>\n",
    "If the count of the values of each characters in both the dictionary are same then it is a valid anagram and we return True\n",
    "else we return False <br><br>\n",
    "\n",
    "**The time complexity of the provided solution is O(n + m)**, where n is the length of string s and m is the length of string t. This is because we iterate through each character in both strings once to build the frequency dictionaries (s_dict and t_dict).<br><br>\n",
    "\n",
    "**The space complexity is O(n + m)** as well, since in the worst case, we may need to store all characters from both strings in the dictionaries. If both strings contain unique characters, the space used by the dictionaries will be proportional to the total number of characters in both strings.\n",
    "<br>\n",
    "<br>\n",
    "<br>\n",
    "\n",
    "**Approach 2 -(Optimal)**\n",
    "<br>\n",
    "<br>\n",
    "We check if the length of both the strings are same. If they are not the same then we return False otherwise we carry on the following steps - \n",
    "<br>\n",
    "<br>\n",
    "We initialize a list of 26 `0's` each representing a count for each of the 26 alphabets.` 0 - a ...... 25 - z`\n",
    "<br>\n",
    "<br>\n",
    "Now, we iterate through one string lets say `s`. While iterating through this string, we increase (+) the count of the alphabets which we encounter in the string.\n",
    "<br>\n",
    "<br>\n",
    "While on the other hand, while iterating through the other string `t`, we decrease (-) the count of the alphabets encountered in the string from the alphabets list.\n",
    "<br>\n",
    "<br>\n",
    "The key idea in the above approach is that if after incrementing and decrementing the values, if the alphabets list is equal to 26 `0's` then it is a valid anagram and if not then it is not a valid anagram\n",
    "<br>\n",
    "<br>\n",
    "\n",
    "**The time complexity of the `isValidAnagram` function is O(n)**, where n is the length of the input strings `s` and `t`. This is because the function iterates through each character of both strings exactly once: first to count the occurrences of characters in `s` and then to decrement the counts based on the characters in `t`.\n",
    "<br>\n",
    "<br>\n",
    "\n",
    "**The space complexity is O(1)**, which is constant space. This is because the `alphabets_list` array has a fixed size of 26, regardless of the input size. The space used does not grow with the size of the input strings, as it only stores counts for the 26 lowercase English letters."
   ]
  },
  {
   "cell_type": "code",
   "execution_count": 4,
   "id": "87995a6f",
   "metadata": {},
   "outputs": [],
   "source": [
    "# Approach 1\n",
    "\n",
    "def is_valid_anagram(s , t):\n",
    "\n",
    "    s_dictionary = {}\n",
    "    t_dictionary = {}\n",
    "\n",
    "    for character in s:\n",
    "        if character in s_dictionary:\n",
    "            s_dictionary[character] += 1\n",
    "        else:\n",
    "            s_dictionary[character] = 1\n",
    "\n",
    "\n",
    "    for character in t:\n",
    "        if character in t_dictionary:\n",
    "            t_dictionary[character] += 1\n",
    "        else:\n",
    "            t_dictionary[character] = 1\n",
    "\n",
    "    return s_dictionary == t_dictionary"
   ]
  },
  {
   "cell_type": "code",
   "execution_count": 5,
   "id": "6945701b",
   "metadata": {},
   "outputs": [
    {
     "data": {
      "text/plain": [
       "False"
      ]
     },
     "execution_count": 5,
     "metadata": {},
     "output_type": "execute_result"
    }
   ],
   "source": [
    "#Test Case 1: \n",
    "\n",
    "is_valid_anagram('jar', 'jam')"
   ]
  },
  {
   "cell_type": "code",
   "execution_count": 7,
   "id": "6cd57198",
   "metadata": {},
   "outputs": [
    {
     "data": {
      "text/plain": [
       "True"
      ]
     },
     "execution_count": 7,
     "metadata": {},
     "output_type": "execute_result"
    }
   ],
   "source": [
    "# Test Case 2:\n",
    "\n",
    "is_valid_anagram('racecar', 'carrace')"
   ]
  },
  {
   "cell_type": "code",
   "execution_count": 13,
   "id": "4164c1fb",
   "metadata": {},
   "outputs": [],
   "source": [
    "# Approach 2:\n",
    "\n",
    "def isValidAnagram(s,t):\n",
    "\n",
    "    if len(s) != len(t):\n",
    "        return False\n",
    "    \n",
    "    else:\n",
    "        alphabets_list = [0]*26\n",
    "\n",
    "        for character in s:\n",
    "            alphabets_list[ord(character) - ord('a')] += 1\n",
    "            # subtracting from ord('a') becuase a is the first letter\n",
    "            # eg: ord('b') = 98, ord('a') = 97 \n",
    "            # => ord('b') - ord('a') = 1 Hence, 1 will be added to index 1 which represents character b\n",
    "\n",
    "        for character in t:\n",
    "            alphabets_list[ord(character) - ord('a')] -= 1\n",
    "\n",
    "        return alphabets_list == [0]*26\n",
    "        "
   ]
  },
  {
   "cell_type": "code",
   "execution_count": null,
   "id": "1cf44bbf",
   "metadata": {},
   "outputs": [
    {
     "name": "stdout",
     "output_type": "stream",
     "text": [
      "[2, 1, 1, 1, 0, 1, 0, 0, 0, 0, 2, 2, 2, 0, 0, 0, 0, 0, 0, 0, 0, 0, 0, 0, 0, 0]\n"
     ]
    }
   ],
   "source": [
    "'''\n",
    "# Test\n",
    "\n",
    "alp = [0]*26\n",
    "s = 'abcdfklmaklm'\n",
    "for char in s:\n",
    "    alp[ord(char) - ord('a')] += 1\n",
    "print(alp)\n",
    "'''"
   ]
  },
  {
   "cell_type": "code",
   "execution_count": null,
   "id": "7db069de",
   "metadata": {},
   "outputs": [
    {
     "data": {
      "text/plain": [
       "True"
      ]
     },
     "execution_count": 14,
     "metadata": {},
     "output_type": "execute_result"
    }
   ],
   "source": [
    "# Test Case 3:\n",
    "\n",
    "isValidAnagram('ant', 'tan')"
   ]
  },
  {
   "cell_type": "code",
   "execution_count": 15,
   "id": "ad23b805",
   "metadata": {},
   "outputs": [
    {
     "data": {
      "text/plain": [
       "True"
      ]
     },
     "execution_count": 15,
     "metadata": {},
     "output_type": "execute_result"
    }
   ],
   "source": [
    "# Test Case 4:\n",
    "\n",
    "isValidAnagram('naman', 'amann')"
   ]
  },
  {
   "cell_type": "code",
   "execution_count": 16,
   "id": "54b69161",
   "metadata": {},
   "outputs": [
    {
     "data": {
      "text/plain": [
       "False"
      ]
     },
     "execution_count": 16,
     "metadata": {},
     "output_type": "execute_result"
    }
   ],
   "source": [
    "# Test Case 5:\n",
    "\n",
    "isValidAnagram('ananas', 'banana')"
   ]
  }
 ],
 "metadata": {
  "kernelspec": {
   "display_name": "Python 3",
   "language": "python",
   "name": "python3"
  },
  "language_info": {
   "codemirror_mode": {
    "name": "ipython",
    "version": 3
   },
   "file_extension": ".py",
   "mimetype": "text/x-python",
   "name": "python",
   "nbconvert_exporter": "python",
   "pygments_lexer": "ipython3",
   "version": "3.11.1"
  }
 },
 "nbformat": 4,
 "nbformat_minor": 5
}
